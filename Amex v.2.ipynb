{
 "cells": [
  {
   "cell_type": "code",
   "execution_count": 1,
   "id": "94e55d0c",
   "metadata": {},
   "outputs": [],
   "source": [
    "import findspark\n",
    "\n",
    "#VectorAssembler provides transformer to convert Dataframe columns into vectors\n",
    "from pyspark.ml.feature import VectorAssembler\n",
    "#StringIndexer provides transformer to convert string labels into numerical values\n",
    "from pyspark.ml.feature import StringIndexer\n",
    "\n",
    "from pyspark.ml import Pipeline\n",
    "from pyspark.ml.classification import LogisticRegression\n",
    "from pyspark.ml.evaluation import MulticlassClassificationEvaluator\n",
    "from pyspark.sql import SparkSession\n",
    "\n",
    "#N.B. before proceeding you must change the path passed to the findspark.init function to the location where spark is installed on your machine\n",
    "findspark.init('/Users/gracilepereira/Desktop/spark-3.5.0-bin-hadoop3')"
   ]
  },
  {
   "cell_type": "code",
   "execution_count": 2,
   "id": "e3335864",
   "metadata": {},
   "outputs": [
    {
     "name": "stderr",
     "output_type": "stream",
     "text": [
      "24/01/21 23:15:12 WARN Utils: Your hostname, Graciles-MacBook-Air.local resolves to a loopback address: 127.0.0.1; using 10.0.3.132 instead (on interface en0)\n",
      "24/01/21 23:15:12 WARN Utils: Set SPARK_LOCAL_IP if you need to bind to another address\n",
      "Setting default log level to \"WARN\".\n",
      "To adjust logging level use sc.setLogLevel(newLevel). For SparkR, use setLogLevel(newLevel).\n",
      "24/01/21 23:15:13 WARN NativeCodeLoader: Unable to load native-hadoop library for your platform... using builtin-java classes where applicable\n",
      "24/01/21 23:15:14 WARN Utils: Service 'SparkUI' could not bind on port 4040. Attempting port 4041.\n",
      "24/01/21 23:15:14 WARN Utils: Service 'SparkUI' could not bind on port 4041. Attempting port 4042.\n"
     ]
    }
   ],
   "source": [
    "#Create a spark session\n",
    "spark = SparkSession.builder.appName(\"StockAnalysis\").config(\"spark.executor.heartbeatInterval\", \"60s\").config(\"spark.executor.memory\", \"12g\").config(\"spark.driver.memory\", \"8g\").config(\"spark.sql.execution.arrow.pyspark.enabled\", \"false\").getOrCreate()"
   ]
  },
  {
   "cell_type": "code",
   "execution_count": 3,
   "id": "e01941eb",
   "metadata": {},
   "outputs": [
    {
     "name": "stderr",
     "output_type": "stream",
     "text": [
      "                                                                                \r"
     ]
    }
   ],
   "source": [
    "# Load the stock history data into a Spark DataFrame\n",
    "stocks = spark.read.csv(\"fh_5yrs.csv\", header=True, inferSchema=True)"
   ]
  },
  {
   "cell_type": "code",
   "execution_count": 4,
   "id": "a59c33f7",
   "metadata": {},
   "outputs": [
    {
     "name": "stdout",
     "output_type": "stream",
     "text": [
      "+----------+------+------------------+------------------+------------------+------------------+------------------+------+\n",
      "|      date|volume|              open|              high|               low|             close|          adjclose|symbol|\n",
      "+----------+------+------------------+------------------+------------------+------------------+------------------+------+\n",
      "|2020-07-02|257500|17.639999389648438|17.739999771118164|  17.6200008392334|17.709999084472656|17.709999084472656|  AAAU|\n",
      "|2020-07-01|468100|17.729999542236328|17.729999542236328|17.540000915527347| 17.68000030517578| 17.68000030517578|  AAAU|\n",
      "|2020-06-30|319100|17.649999618530273|17.799999237060547|17.610000610351562|17.780000686645508|17.780000686645508|  AAAU|\n",
      "|2020-06-29|405500|17.670000076293945|17.690000534057614|  17.6299991607666| 17.68000030517578| 17.68000030517578|  AAAU|\n",
      "|2020-06-26|335100|17.489999771118164|17.670000076293945|17.420000076293945|17.670000076293945|17.670000076293945|  AAAU|\n",
      "|2020-06-25|246800|17.600000381469727|17.600000381469727|17.520000457763672| 17.59000015258789| 17.59000015258789|  AAAU|\n",
      "|2020-06-24|329200|17.610000610351562|17.709999084472656|17.559999465942386|17.610000610351562|17.610000610351562|  AAAU|\n",
      "|2020-06-23|351800|17.549999237060547| 17.65999984741211|17.549999237060547| 17.65999984741211| 17.65999984741211|  AAAU|\n",
      "|2020-06-22|308300|              17.5|17.569999694824222|17.440000534057614|              17.5|              17.5|  AAAU|\n",
      "|2020-06-19|153800|17.270000457763672|17.399999618530273|17.260000228881836|17.399999618530273|17.399999618530273|  AAAU|\n",
      "|2020-06-18|102200|17.270000457763672|17.270000457763672|17.139999389648438|17.229999542236328|17.229999542236328|  AAAU|\n",
      "|2020-06-17|153900|17.190000534057614|             17.25| 17.15999984741211|             17.25|             17.25|  AAAU|\n",
      "|2020-06-16|165800|17.149999618530273|             17.25|17.110000610351562|17.209999084472653|17.209999084472653|  AAAU|\n",
      "|2020-06-15|308700|17.030000686645508|17.229999542236328|              17.0|17.200000762939453|17.200000762939453|  AAAU|\n",
      "|2020-06-12|161400| 17.34000015258789|17.370000839233402|             17.25|17.270000457763672|17.270000457763672|  AAAU|\n",
      "|2020-06-11|308800|17.329999923706055|17.399999618530273|17.170000076293945|17.229999542236328|17.229999542236328|  AAAU|\n",
      "|2020-06-10|316900|17.200000762939453|17.350000381469727|17.079999923706055|17.350000381469727|17.350000381469727|  AAAU|\n",
      "|2020-06-09|296100|17.110000610351562|17.180000305175778|17.069999694824222|17.110000610351562|17.110000610351562|  AAAU|\n",
      "|2020-06-08|386900|16.850000381469727|16.950000762939453|16.809999465942386|16.950000762939453|16.950000762939453|  AAAU|\n",
      "|2020-06-05|510400| 16.84000015258789| 16.84000015258789|16.670000076293945|16.760000228881836|16.760000228881836|  AAAU|\n",
      "+----------+------+------------------+------------------+------------------+------------------+------------------+------+\n",
      "only showing top 20 rows\n",
      "\n",
      "root\n",
      " |-- date: date (nullable = true)\n",
      " |-- volume: long (nullable = true)\n",
      " |-- open: double (nullable = true)\n",
      " |-- high: double (nullable = true)\n",
      " |-- low: double (nullable = true)\n",
      " |-- close: double (nullable = true)\n",
      " |-- adjclose: double (nullable = true)\n",
      " |-- symbol: string (nullable = true)\n",
      "\n"
     ]
    }
   ],
   "source": [
    "#View your data and understand its structure\n",
    "stocks.show()\n",
    "stocks.printSchema()"
   ]
  },
  {
   "cell_type": "code",
   "execution_count": 5,
   "id": "8ac8a0e8",
   "metadata": {},
   "outputs": [
    {
     "name": "stderr",
     "output_type": "stream",
     "text": [
      "                                                                                \r"
     ]
    },
    {
     "data": {
      "text/plain": [
       "6852038"
      ]
     },
     "execution_count": 5,
     "metadata": {},
     "output_type": "execute_result"
    }
   ],
   "source": [
    "# checking the number of rows\n",
    "stocks.count()"
   ]
  },
  {
   "cell_type": "code",
   "execution_count": 6,
   "id": "02ab9aec",
   "metadata": {},
   "outputs": [
    {
     "data": {
      "text/plain": [
       "8"
      ]
     },
     "execution_count": 6,
     "metadata": {},
     "output_type": "execute_result"
    }
   ],
   "source": [
    "# checking the number of columns\n",
    "len(stocks.columns)"
   ]
  },
  {
   "cell_type": "code",
   "execution_count": 7,
   "id": "d55fbbf1",
   "metadata": {},
   "outputs": [
    {
     "name": "stderr",
     "output_type": "stream",
     "text": [
      "[Stage 6:=======>                                                   (1 + 7) / 8]\r"
     ]
    },
    {
     "name": "stdout",
     "output_type": "stream",
     "text": [
      "+----+------+----+----+---+-----+--------+------+\n",
      "|date|volume|open|high|low|close|adjclose|symbol|\n",
      "+----+------+----+----+---+-----+--------+------+\n",
      "|   0|     0|   0|   0|  0|    0|       0|     0|\n",
      "+----+------+----+----+---+-----+--------+------+\n",
      "\n"
     ]
    },
    {
     "name": "stderr",
     "output_type": "stream",
     "text": [
      "\r",
      "                                                                                \r"
     ]
    }
   ],
   "source": [
    "# Missing values\n",
    "from pyspark.sql.functions import col, count, when, isnan\n",
    "from pyspark.sql.types import DoubleType, FloatType\n",
    "\n",
    "# Check for missing values within the dataset\n",
    "def count_missing_values(column, dtype):\n",
    "    if isinstance(dtype, (DoubleType, FloatType)):\n",
    "        return count(when(isnan(column) | col(column).isNull(), column))\n",
    "    else:\n",
    "        return count(when(col(column).isNull(), column))\n",
    "\n",
    "missing_counts = [count_missing_values(c, stocks.schema[c].dataType).alias(c) for c in stocks.columns]\n",
    "stocks.select(missing_counts).show()"
   ]
  },
  {
   "cell_type": "code",
   "execution_count": 8,
   "id": "54fcb568",
   "metadata": {},
   "outputs": [
    {
     "name": "stderr",
     "output_type": "stream",
     "text": [
      "24/01/21 23:16:06 WARN SparkStringUtils: Truncated the string representation of a plan since it was too large. This behavior can be adjusted by setting 'spark.sql.debug.maxToStringFields'.\n",
      "[Stage 11:>                                                         (0 + 1) / 1]\r"
     ]
    },
    {
     "name": "stdout",
     "output_type": "stream",
     "text": [
      "+-------+------------------+--------------------+------------------+------------------+--------------------+------------------+-------+\n",
      "|summary|volume            |open                |high              |low               |close               |adjclose          |symbol |\n",
      "+-------+------------------+--------------------+------------------+------------------+--------------------+------------------+-------+\n",
      "|count  |6852038           |6852038             |6852038           |6852038           |6852038             |6852038           |6852038|\n",
      "|mean   |1015413.7055740205|298.0861291125565   |305.87568055661404|291.0136200348426 |296.7830805422864   |293.23114568836394|NaN    |\n",
      "|stddev |4833379.770318016 |115808.75604569825  |118216.0919370147 |113528.60373528661|115157.54666985657  |114344.26187778253|NaN    |\n",
      "|min    |1                 |0.001000000047497451|0.0               |0.0               |0.001000000047497451|-3.770960807800293|AAAU   |\n",
      "|max    |2156725200        |6.9155304E7         |7.0588576E7       |6.8438664E7       |6.9513616E7         |6.902224E7        |ZYXI   |\n",
      "+-------+------------------+--------------------+------------------+------------------+--------------------+------------------+-------+\n",
      "\n"
     ]
    },
    {
     "name": "stderr",
     "output_type": "stream",
     "text": [
      "\r",
      "                                                                                \r"
     ]
    }
   ],
   "source": [
    "# Basic descriptive statistics\n",
    "stocks.describe().show(truncate=False)"
   ]
  },
  {
   "cell_type": "code",
   "execution_count": 9,
   "id": "45464e0c",
   "metadata": {},
   "outputs": [
    {
     "name": "stderr",
     "output_type": "stream",
     "text": [
      "24/01/21 23:16:43 WARN WindowExec: No Partition Defined for Window operation! Moving all data to a single partition, this can cause serious performance degradation.\n",
      "24/01/21 23:16:43 WARN WindowExec: No Partition Defined for Window operation! Moving all data to a single partition, this can cause serious performance degradation.\n",
      "24/01/21 23:16:43 WARN WindowExec: No Partition Defined for Window operation! Moving all data to a single partition, this can cause serious performance degradation.\n",
      "24/01/21 23:17:17 WARN WindowExec: No Partition Defined for Window operation! Moving all data to a single partition, this can cause serious performance degradation.\n",
      "24/01/21 23:17:17 WARN WindowExec: No Partition Defined for Window operation! Moving all data to a single partition, this can cause serious performance degradation.\n",
      "                                                                                \r"
     ]
    },
    {
     "name": "stdout",
     "output_type": "stream",
     "text": [
      "+----------+--------+------------------+------------------+------------------+------------------+------------------+------+-----+\n",
      "|      date|  volume|              open|              high|               low|             close|          adjclose|symbol|label|\n",
      "+----------+--------+------------------+------------------+------------------+------------------+------------------+------+-----+\n",
      "|2015-01-02|    2000|             37.25|             37.25| 36.63999938964844| 36.63999938964844|  35.3997688293457|  AADR|    0|\n",
      "|2015-01-02|10748600| 54.27999877929688|54.599998474121094| 53.06999969482422| 53.90999984741211| 51.07991790771485|   AAL|    1|\n",
      "|2015-01-02|   11500|             308.0| 348.5899963378906|             308.0|327.17999267578125|327.17999267578125|  AAMC|    1|\n",
      "|2015-01-02|   11400| 3.990000009536743|4.0300002098083505|3.9800000190734863|4.0300002098083505| 3.917722225189209|  AAME|    0|\n",
      "|2015-01-02|  898900|30.809999465942386| 30.86000061035156|30.040000915527344|  30.6200008392334|30.058820724487305|   AAN|    1|\n",
      "|2015-01-02|  184600|11.279999732971193|11.279999732971193|10.720000267028807|10.789999961853027|10.789999961853027|  AAOI|    0|\n",
      "|2015-01-02|   90700| 22.54999923706055| 22.68000030517578|21.600000381469727| 21.93000030517578|20.995807647705078|  AAON|    1|\n",
      "|2015-01-02|  509800|160.85000610351562|             162.5|157.47000122070312|158.55999755859375|156.25088500976562|   AAP|    1|\n",
      "|2015-01-02|53204600|111.38999938964844|111.44000244140624| 107.3499984741211|109.33000183105469| 99.94588470458984|  AAPL|    0|\n",
      "|2015-01-02|  107500| 40.11999893188477|40.459999084472656| 39.95000076293945| 40.36999893188477|35.001903533935554|   AAT|    0|\n",
      "|2015-01-02|  182200|0.9499999880790709|0.9800000190734864|0.9399999976158142|0.9499999880790709|0.9499999880790709|   AAU|    0|\n",
      "|2015-01-02|  225900|49.709999084472656| 49.81999969482422| 47.72999954223633| 48.41999816894531| 48.41999816894531|  AAWW|    1|\n",
      "|2015-01-02|  509500| 61.16999816894531| 61.16999816894531|  60.4900016784668| 60.63000106811523|  54.6192741394043|  AAXJ|    1|\n",
      "|2015-01-02|  135200|26.149999618530273| 26.21999931335449|  25.6200008392334| 26.10000038146973| 26.10000038146973|    AB|    0|\n",
      "|2015-01-02| 1255500|21.149999618530273|21.209999084472656| 20.96999931335449| 21.07999992370605| 16.71236801147461|   ABB|    0|\n",
      "|2015-01-02| 5086100| 65.44000244140625| 66.40000152587889| 65.44000244140625| 65.88999938964844| 51.71813201904297|  ABBV|    1|\n",
      "|2015-01-02| 1124600| 90.61000061035156| 91.31999969482422| 89.81999969482422| 90.45999908447266|   82.518798828125|   ABC|    1|\n",
      "|2015-01-02|   73300| 25.82999992370605| 25.86000061035156|24.920000076293945|25.270000457763672| 23.79801750183105|  ABCB|    0|\n",
      "|2015-01-02|   19100| 3.369999885559082| 3.400000095367432|3.2000000476837163| 3.400000095367432| 3.400000095367432|  ABEO|    0|\n",
      "|2015-01-02|20472500|6.0999999046325675| 6.110000133514403| 5.860000133514403| 5.949999809265138| 5.108745574951172|  ABEV|    1|\n",
      "+----------+--------+------------------+------------------+------------------+------------------+------------------+------+-----+\n",
      "only showing top 20 rows\n",
      "\n"
     ]
    }
   ],
   "source": [
    "from pyspark.sql import functions as F\n",
    "from pyspark.sql.window import Window\n",
    "\n",
    "# Define a window specification\n",
    "windowSpec = Window().orderBy(\"date\")\n",
    "\n",
    "# Create a new column 'label' based on the difference between current and previous day's close\n",
    "stocks = stocks.withColumn(\"label\", F.when(F.lag(\"close\").over(windowSpec) < stocks[\"close\"], 1).otherwise(0))\n",
    "\n",
    "# Drop rows with null label (first row after creating the lag)\n",
    "stocks = stocks.na.drop(subset=[\"label\"])\n",
    "\n",
    "# Show the resulting DataFrame\n",
    "stocks.show()"
   ]
  },
  {
   "cell_type": "code",
   "execution_count": 10,
   "id": "1d2f93f6",
   "metadata": {},
   "outputs": [],
   "source": [
    "from pyspark.ml.feature import VectorAssembler, StringIndexer\n",
    "from pyspark.ml.classification import LogisticRegression\n",
    "from pyspark.ml import Pipeline\n",
    "from pyspark.sql.functions import year, month, dayofmonth"
   ]
  },
  {
   "cell_type": "code",
   "execution_count": 11,
   "id": "4195fcea",
   "metadata": {},
   "outputs": [],
   "source": [
    "# Extract year, month, and day from the 'date' column\n",
    "stocks = stocks.withColumn('year', year(stocks['date']))\n",
    "stocks = stocks.withColumn('month', month(stocks['date']))\n",
    "stocks = stocks.withColumn('day', dayofmonth(stocks['date']))"
   ]
  },
  {
   "cell_type": "code",
   "execution_count": 17,
   "id": "430cbc32",
   "metadata": {},
   "outputs": [
    {
     "name": "stdout",
     "output_type": "stream",
     "text": [
      "CPU times: user 1.9 ms, sys: 5.9 ms, total: 7.8 ms\n",
      "Wall time: 241 ms\n"
     ]
    }
   ],
   "source": [
    "%%time\n",
    "\n",
    "# Split the data set into training and test\n",
    "[trainingData, testData] = stocks.randomSplit([0.6, 0.4])\n",
    "\n",
    "# Create a VectorAssembler to transform feature columns into vectors\n",
    "assembler = VectorAssembler(\n",
    "    inputCols=[\"year\", \"month\", \"day\", \"volume\", \"open\", \"high\", \"low\", \"close\", \"adjclose\"],\n",
    "    outputCol=\"features\"\n",
    ")\n",
    "\n",
    "# Create a StringIndexer to convert the 'symbol' column into numerical format\n",
    "indexer = StringIndexer(inputCol=\"symbol\", outputCol=\"indexedSymbol\")\n",
    "\n",
    "# Create an estimator based on XGBoost (GBTClassifier in this case)\n",
    "lr = LogisticRegression(maxIter=30, regParam=0.01, labelCol=\"label\")\n",
    "\n",
    "# Create an ML pipeline in order of assembler -> indexer -> logistic regression\n",
    "pipeline = Pipeline(stages=[assembler, indexer, lr])"
   ]
  },
  {
   "cell_type": "code",
   "execution_count": 18,
   "id": "9f353261",
   "metadata": {
    "scrolled": false
   },
   "outputs": [
    {
     "name": "stderr",
     "output_type": "stream",
     "text": [
      "24/01/21 23:30:22 WARN WindowExec: No Partition Defined for Window operation! Moving all data to a single partition, this can cause serious performance degradation.\n",
      "24/01/21 23:30:22 WARN WindowExec: No Partition Defined for Window operation! Moving all data to a single partition, this can cause serious performance degradation.\n",
      "24/01/21 23:30:38 WARN WindowExec: No Partition Defined for Window operation! Moving all data to a single partition, this can cause serious performance degradation.\n",
      "24/01/21 23:30:38 WARN WindowExec: No Partition Defined for Window operation! Moving all data to a single partition, this can cause serious performance degradation.\n",
      "24/01/21 23:30:48 WARN WindowExec: No Partition Defined for Window operation! Moving all data to a single partition, this can cause serious performance degradation.\n",
      "24/01/21 23:30:48 WARN WindowExec: No Partition Defined for Window operation! Moving all data to a single partition, this can cause serious performance degradation.\n",
      "24/01/21 23:30:48 WARN WindowExec: No Partition Defined for Window operation! Moving all data to a single partition, this can cause serious performance degradation.\n",
      "24/01/21 23:30:54 WARN WindowExec: No Partition Defined for Window operation! Moving all data to a single partition, this can cause serious performance degradation.\n",
      "24/01/21 23:30:54 WARN WindowExec: No Partition Defined for Window operation! Moving all data to a single partition, this can cause serious performance degradation.\n",
      "24/01/21 23:30:55 WARN WindowExec: No Partition Defined for Window operation! Moving all data to a single partition, this can cause serious performance degradation.\n",
      "24/01/21 23:30:55 WARN WindowExec: No Partition Defined for Window operation! Moving all data to a single partition, this can cause serious performance degradation.\n",
      "24/01/21 23:30:55 WARN WindowExec: No Partition Defined for Window operation! Moving all data to a single partition, this can cause serious performance degradation.\n",
      "24/01/21 23:31:00 WARN WindowExec: No Partition Defined for Window operation! Moving all data to a single partition, this can cause serious performance degradation.\n",
      "24/01/21 23:31:00 WARN WindowExec: No Partition Defined for Window operation! Moving all data to a single partition, this can cause serious performance degradation.\n",
      "24/01/21 23:32:27 WARN WindowExec: No Partition Defined for Window operation! Moving all data to a single partition, this can cause serious performance degradation.\n",
      "24/01/21 23:32:27 WARN WindowExec: No Partition Defined for Window operation! Moving all data to a single partition, this can cause serious performance degradation.\n",
      "24/01/21 23:32:27 WARN WindowExec: No Partition Defined for Window operation! Moving all data to a single partition, this can cause serious performance degradation.\n",
      "24/01/21 23:32:43 WARN WindowExec: No Partition Defined for Window operation! Moving all data to a single partition, this can cause serious performance degradation.\n",
      "24/01/21 23:32:43 WARN WindowExec: No Partition Defined for Window operation! Moving all data to a single partition, this can cause serious performance degradation.\n",
      "24/01/21 23:32:43 WARN WindowExec: No Partition Defined for Window operation! Moving all data to a single partition, this can cause serious performance degradation.\n",
      "24/01/21 23:32:43 WARN WindowExec: No Partition Defined for Window operation! Moving all data to a single partition, this can cause serious performance degradation.\n",
      "24/01/21 23:32:43 WARN WindowExec: No Partition Defined for Window operation! Moving all data to a single partition, this can cause serious performance degradation.\n",
      "24/01/21 23:32:58 WARN WindowExec: No Partition Defined for Window operation! Moving all data to a single partition, this can cause serious performance degradation.\n",
      "24/01/21 23:32:58 WARN WindowExec: No Partition Defined for Window operation! Moving all data to a single partition, this can cause serious performance degradation.\n",
      "24/01/21 23:32:59 WARN WindowExec: No Partition Defined for Window operation! Moving all data to a single partition, this can cause serious performance degradation.\n",
      "24/01/21 23:32:59 WARN WindowExec: No Partition Defined for Window operation! Moving all data to a single partition, this can cause serious performance degradation.\n",
      "24/01/21 23:32:59 WARN WindowExec: No Partition Defined for Window operation! Moving all data to a single partition, this can cause serious performance degradation.\n",
      "24/01/21 23:33:14 WARN WindowExec: No Partition Defined for Window operation! Moving all data to a single partition, this can cause serious performance degradation.\n",
      "24/01/21 23:33:14 WARN WindowExec: No Partition Defined for Window operation! Moving all data to a single partition, this can cause serious performance degradation.\n",
      "[Stage 116:>                                                        (0 + 1) / 1]\r"
     ]
    },
    {
     "name": "stdout",
     "output_type": "stream",
     "text": [
      "+----------+------+-----+----------------------------------------+----------+\n",
      "|date      |symbol|label|probability                             |prediction|\n",
      "+----------+------+-----+----------------------------------------+----------+\n",
      "|2015-01-02|CHAU  |1    |[0.49927781323829923,0.5007221867617008]|1.0       |\n",
      "|2015-01-02|DTP   |0    |[0.4992991064141682,0.5007008935858318] |1.0       |\n",
      "|2015-01-02|AYLA  |1    |[0.49929827226465934,0.5007017277353407]|1.0       |\n",
      "|2015-01-02|ZYXI  |0    |[0.49929993216795937,0.5007000678320406]|1.0       |\n",
      "|2015-01-02|SMIT  |0    |[0.4992992246252693,0.5007007753747307] |1.0       |\n",
      "|2015-01-02|SVBI  |0    |[0.4992988515487742,0.5007011484512258] |1.0       |\n",
      "|2015-01-02|EVSI  |0    |[0.4992982152726881,0.5007017847273119] |1.0       |\n",
      "|2015-01-02|LIND  |1    |[0.4992975079706507,0.5007024920293492] |1.0       |\n",
      "|2015-01-02|MPB   |0    |[0.49929613499977665,0.5007038650002233]|1.0       |\n",
      "|2015-01-02|GJP   |1    |[0.4992944320881943,0.5007055679118058] |1.0       |\n",
      "|2015-01-02|CAPR  |0    |[0.4992905381522275,0.5007094618477725] |1.0       |\n",
      "|2015-01-02|VLU   |1    |[0.4992794984207197,0.5007205015792803] |1.0       |\n",
      "|2015-01-02|TARA  |1    |[0.49919476711859473,0.5008052328814052]|1.0       |\n",
      "|2015-01-02|EDSA  |1    |[0.49918243873739115,0.5008175612626089]|1.0       |\n",
      "|2015-01-02|TNXP  |1    |[0.49781897036949513,0.5021810296305049]|1.0       |\n",
      "|2015-01-02|USI   |0    |[0.49929435326292837,0.5007056467370716]|1.0       |\n",
      "|2015-01-02|BMRA  |0    |[0.4992995838195546,0.5007004161804454] |1.0       |\n",
      "|2015-01-02|BRN   |0    |[0.4992990778847341,0.5007009221152658] |1.0       |\n",
      "|2015-01-02|CYCCP |0    |[0.4992982951929521,0.5007017048070479] |1.0       |\n",
      "|2015-01-02|SLNO  |0    |[0.49929790165879784,0.5007020983412022]|1.0       |\n",
      "+----------+------+-----+----------------------------------------+----------+\n",
      "only showing top 20 rows\n",
      "\n",
      "CPU times: user 55.3 ms, sys: 162 ms, total: 217 ms\n",
      "Wall time: 3min\n"
     ]
    },
    {
     "name": "stderr",
     "output_type": "stream",
     "text": [
      "\r",
      "                                                                                \r"
     ]
    }
   ],
   "source": [
    "%%time\n",
    "\n",
    "# Train a model using the pipeline and the training data\n",
    "model = pipeline.fit(trainingData)\n",
    "\n",
    "# Test the classification model using the test data\n",
    "prediction = model.transform(testData)\n",
    "prediction.select('date', 'symbol', 'label', 'probability', 'prediction').show(truncate=False)"
   ]
  },
  {
   "cell_type": "code",
   "execution_count": 19,
   "id": "6e907eb3",
   "metadata": {},
   "outputs": [
    {
     "name": "stderr",
     "output_type": "stream",
     "text": [
      "24/01/21 23:33:23 WARN WindowExec: No Partition Defined for Window operation! Moving all data to a single partition, this can cause serious performance degradation.\n",
      "24/01/21 23:33:23 WARN WindowExec: No Partition Defined for Window operation! Moving all data to a single partition, this can cause serious performance degradation.\n",
      "24/01/21 23:33:23 WARN WindowExec: No Partition Defined for Window operation! Moving all data to a single partition, this can cause serious performance degradation.\n",
      "24/01/21 23:33:37 WARN WindowExec: No Partition Defined for Window operation! Moving all data to a single partition, this can cause serious performance degradation.\n",
      "24/01/21 23:33:37 WARN WindowExec: No Partition Defined for Window operation! Moving all data to a single partition, this can cause serious performance degradation.\n",
      "[Stage 119:>                                                        (0 + 1) / 1]\r"
     ]
    },
    {
     "name": "stdout",
     "output_type": "stream",
     "text": [
      "Accuracy = 50.60%\n",
      "Classification Error = 0.494032\n"
     ]
    },
    {
     "name": "stderr",
     "output_type": "stream",
     "text": [
      "\r",
      "                                                                                \r"
     ]
    }
   ],
   "source": [
    "evaluator = MulticlassClassificationEvaluator(\n",
    "    labelCol = 'label', predictionCol = 'prediction', metricName='accuracy'\n",
    ")\n",
    "\n",
    "accuracy = evaluator.evaluate(prediction)\n",
    "\n",
    "print(\"Accuracy = {:.2%}\".format(accuracy))\n",
    "print(\"Classification Error = %g\" % (1.0 - accuracy))"
   ]
  },
  {
   "cell_type": "code",
   "execution_count": 20,
   "id": "361ecdda",
   "metadata": {},
   "outputs": [
    {
     "name": "stderr",
     "output_type": "stream",
     "text": [
      "24/01/21 23:33:59 WARN WindowExec: No Partition Defined for Window operation! Moving all data to a single partition, this can cause serious performance degradation.\n",
      "24/01/21 23:33:59 WARN WindowExec: No Partition Defined for Window operation! Moving all data to a single partition, this can cause serious performance degradation.\n",
      "24/01/21 23:33:59 WARN WindowExec: No Partition Defined for Window operation! Moving all data to a single partition, this can cause serious performance degradation.\n",
      "24/01/21 23:34:15 WARN WindowExec: No Partition Defined for Window operation! Moving all data to a single partition, this can cause serious performance degradation.\n",
      "24/01/21 23:34:15 WARN WindowExec: No Partition Defined for Window operation! Moving all data to a single partition, this can cause serious performance degradation.\n",
      "/Users/gracilepereira/anaconda3/lib/python3.11/site-packages/pyspark/sql/context.py:158: FutureWarning: Deprecated in 3.0.0. Use SparkSession.builder.getOrCreate() instead.\n",
      "  warnings.warn(\n",
      "[Stage 125:>                                                        (0 + 1) / 1]\r"
     ]
    },
    {
     "name": "stdout",
     "output_type": "stream",
     "text": [
      "Confusion Matrix:\n",
      "[[  33496. 1325462.]\n",
      " [  27862. 1352523.]]\n"
     ]
    },
    {
     "name": "stderr",
     "output_type": "stream",
     "text": [
      "\r",
      "                                                                                \r"
     ]
    }
   ],
   "source": [
    "from pyspark.ml.evaluation import MulticlassClassificationEvaluator\n",
    "from pyspark.mllib.evaluation import MulticlassMetrics\n",
    "from pyspark.sql import functions as F\n",
    "\n",
    "# Ensure the \"label\" column is of type DoubleType\n",
    "prediction = prediction.withColumn(\"label\", F.col(\"label\").cast(\"double\"))\n",
    "\n",
    "# Extract true labels and predicted labels as RDD\n",
    "predictionAndLabels = prediction.select(\"prediction\", \"label\").rdd\n",
    "\n",
    "# Instantiate MulticlassMetrics\n",
    "metrics = MulticlassMetrics(predictionAndLabels)\n",
    "\n",
    "# Get the confusion matrix\n",
    "confusion_matrix = metrics.confusionMatrix().toArray()\n",
    "print(\"Confusion Matrix:\")\n",
    "print(confusion_matrix)"
   ]
  },
  {
   "cell_type": "code",
   "execution_count": 22,
   "id": "619588f3",
   "metadata": {},
   "outputs": [
    {
     "name": "stderr",
     "output_type": "stream",
     "text": [
      "24/01/22 02:37:39 WARN WindowExec: No Partition Defined for Window operation! Moving all data to a single partition, this can cause serious performance degradation.\n",
      "24/01/22 02:37:39 WARN WindowExec: No Partition Defined for Window operation! Moving all data to a single partition, this can cause serious performance degradation.\n",
      "24/01/22 02:37:39 WARN WindowExec: No Partition Defined for Window operation! Moving all data to a single partition, this can cause serious performance degradation.\n",
      "24/01/22 02:37:39 WARN WindowExec: No Partition Defined for Window operation! Moving all data to a single partition, this can cause serious performance degradation.\n",
      "24/01/22 02:37:39 WARN WindowExec: No Partition Defined for Window operation! Moving all data to a single partition, this can cause serious performance degradation.\n",
      "24/01/22 02:37:39 WARN WindowExec: No Partition Defined for Window operation! Moving all data to a single partition, this can cause serious performance degradation.\n",
      "24/01/22 02:37:39 WARN WindowExec: No Partition Defined for Window operation! Moving all data to a single partition, this can cause serious performance degradation.\n",
      "24/01/22 02:37:39 WARN WindowExec: No Partition Defined for Window operation! Moving all data to a single partition, this can cause serious performance degradation.\n",
      "24/01/22 02:37:53 WARN WindowExec: No Partition Defined for Window operation! Moving all data to a single partition, this can cause serious performance degradation.\n",
      "24/01/22 02:37:53 WARN WindowExec: No Partition Defined for Window operation! Moving all data to a single partition, this can cause serious performance degradation.\n",
      "24/01/22 02:39:12 WARN WindowExec: No Partition Defined for Window operation! Moving all data to a single partition, this can cause serious performance degradation.\n",
      "24/01/22 02:39:12 WARN WindowExec: No Partition Defined for Window operation! Moving all data to a single partition, this can cause serious performance degradation.\n",
      "24/01/22 02:39:27 WARN WindowExec: No Partition Defined for Window operation! Moving all data to a single partition, this can cause serious performance degradation.\n",
      "24/01/22 02:39:27 WARN WindowExec: No Partition Defined for Window operation! Moving all data to a single partition, this can cause serious performance degradation.\n",
      "24/01/22 02:40:14 WARN WindowExec: No Partition Defined for Window operation! Moving all data to a single partition, this can cause serious performance degradation.\n",
      "24/01/22 02:40:14 WARN WindowExec: No Partition Defined for Window operation! Moving all data to a single partition, this can cause serious performance degradation.\n",
      "24/01/22 02:40:48 WARN WindowExec: No Partition Defined for Window operation! Moving all data to a single partition, this can cause serious performance degradation.\n",
      "24/01/22 02:40:48 WARN WindowExec: No Partition Defined for Window operation! Moving all data to a single partition, this can cause serious performance degradation.\n",
      "24/01/22 02:41:40 WARN WindowExec: No Partition Defined for Window operation! Moving all data to a single partition, this can cause serious performance degradation.\n",
      "24/01/22 02:41:40 WARN WindowExec: No Partition Defined for Window operation! Moving all data to a single partition, this can cause serious performance degradation.\n",
      "24/01/22 02:42:21 WARN WindowExec: No Partition Defined for Window operation! Moving all data to a single partition, this can cause serious performance degradation.\n",
      "24/01/22 02:42:21 WARN WindowExec: No Partition Defined for Window operation! Moving all data to a single partition, this can cause serious performance degradation.\n",
      "24/01/22 02:43:04 WARN WindowExec: No Partition Defined for Window operation! Moving all data to a single partition, this can cause serious performance degradation.\n",
      "24/01/22 02:43:04 WARN WindowExec: No Partition Defined for Window operation! Moving all data to a single partition, this can cause serious performance degradation.\n",
      "24/01/22 02:44:01 WARN WindowExec: No Partition Defined for Window operation! Moving all data to a single partition, this can cause serious performance degradation.\n",
      "24/01/22 02:44:01 WARN WindowExec: No Partition Defined for Window operation! Moving all data to a single partition, this can cause serious performance degradation.\n",
      "24/01/22 02:44:46 WARN WindowExec: No Partition Defined for Window operation! Moving all data to a single partition, this can cause serious performance degradation.\n",
      "24/01/22 02:44:46 WARN WindowExec: No Partition Defined for Window operation! Moving all data to a single partition, this can cause serious performance degradation.\n",
      "24/01/22 02:45:29 WARN WindowExec: No Partition Defined for Window operation! Moving all data to a single partition, this can cause serious performance degradation.\n",
      "24/01/22 02:45:29 WARN WindowExec: No Partition Defined for Window operation! Moving all data to a single partition, this can cause serious performance degradation.\n",
      "24/01/22 02:45:29 WARN WindowExec: No Partition Defined for Window operation! Moving all data to a single partition, this can cause serious performance degradation.\n",
      "24/01/22 02:45:29 WARN WindowExec: No Partition Defined for Window operation! Moving all data to a single partition, this can cause serious performance degradation.\n",
      "24/01/22 02:45:29 WARN WindowExec: No Partition Defined for Window operation! Moving all data to a single partition, this can cause serious performance degradation.\n",
      "24/01/22 02:45:29 WARN WindowExec: No Partition Defined for Window operation! Moving all data to a single partition, this can cause serious performance degradation.\n",
      "24/01/22 02:45:30 WARN WindowExec: No Partition Defined for Window operation! Moving all data to a single partition, this can cause serious performance degradation.\n",
      "24/01/22 02:45:30 WARN WindowExec: No Partition Defined for Window operation! Moving all data to a single partition, this can cause serious performance degradation.\n",
      "24/01/22 02:45:45 WARN WindowExec: No Partition Defined for Window operation! Moving all data to a single partition, this can cause serious performance degradation.\n",
      "24/01/22 02:45:45 WARN WindowExec: No Partition Defined for Window operation! Moving all data to a single partition, this can cause serious performance degradation.\n",
      "24/01/22 02:47:04 WARN WindowExec: No Partition Defined for Window operation! Moving all data to a single partition, this can cause serious performance degradation.\n",
      "24/01/22 02:47:04 WARN WindowExec: No Partition Defined for Window operation! Moving all data to a single partition, this can cause serious performance degradation.\n",
      "24/01/22 02:47:19 WARN WindowExec: No Partition Defined for Window operation! Moving all data to a single partition, this can cause serious performance degradation.\n",
      "24/01/22 02:47:19 WARN WindowExec: No Partition Defined for Window operation! Moving all data to a single partition, this can cause serious performance degradation.\n",
      "24/01/22 02:48:07 WARN WindowExec: No Partition Defined for Window operation! Moving all data to a single partition, this can cause serious performance degradation.\n",
      "24/01/22 02:48:07 WARN WindowExec: No Partition Defined for Window operation! Moving all data to a single partition, this can cause serious performance degradation.\n",
      "24/01/22 02:48:51 WARN WindowExec: No Partition Defined for Window operation! Moving all data to a single partition, this can cause serious performance degradation.\n",
      "24/01/22 02:48:51 WARN WindowExec: No Partition Defined for Window operation! Moving all data to a single partition, this can cause serious performance degradation.\n",
      "24/01/22 02:49:47 WARN WindowExec: No Partition Defined for Window operation! Moving all data to a single partition, this can cause serious performance degradation.\n",
      "24/01/22 02:49:47 WARN WindowExec: No Partition Defined for Window operation! Moving all data to a single partition, this can cause serious performance degradation.\n",
      "24/01/22 02:50:35 WARN WindowExec: No Partition Defined for Window operation! Moving all data to a single partition, this can cause serious performance degradation.\n",
      "24/01/22 02:50:35 WARN WindowExec: No Partition Defined for Window operation! Moving all data to a single partition, this can cause serious performance degradation.\n"
     ]
    },
    {
     "name": "stderr",
     "output_type": "stream",
     "text": [
      "24/01/22 02:51:19 WARN WindowExec: No Partition Defined for Window operation! Moving all data to a single partition, this can cause serious performance degradation.\n",
      "24/01/22 02:51:19 WARN WindowExec: No Partition Defined for Window operation! Moving all data to a single partition, this can cause serious performance degradation.\n",
      "24/01/22 02:52:16 WARN WindowExec: No Partition Defined for Window operation! Moving all data to a single partition, this can cause serious performance degradation.\n",
      "24/01/22 02:52:16 WARN WindowExec: No Partition Defined for Window operation! Moving all data to a single partition, this can cause serious performance degradation.\n",
      "24/01/22 02:53:04 WARN WindowExec: No Partition Defined for Window operation! Moving all data to a single partition, this can cause serious performance degradation.\n",
      "24/01/22 02:53:04 WARN WindowExec: No Partition Defined for Window operation! Moving all data to a single partition, this can cause serious performance degradation.\n",
      "24/01/22 02:53:47 WARN WindowExec: No Partition Defined for Window operation! Moving all data to a single partition, this can cause serious performance degradation.\n",
      "24/01/22 02:53:47 WARN WindowExec: No Partition Defined for Window operation! Moving all data to a single partition, this can cause serious performance degradation.\n",
      "24/01/22 02:53:47 WARN WindowExec: No Partition Defined for Window operation! Moving all data to a single partition, this can cause serious performance degradation.\n",
      "24/01/22 02:53:48 WARN WindowExec: No Partition Defined for Window operation! Moving all data to a single partition, this can cause serious performance degradation.\n",
      "24/01/22 02:53:48 WARN WindowExec: No Partition Defined for Window operation! Moving all data to a single partition, this can cause serious performance degradation.\n",
      "24/01/22 02:53:48 WARN WindowExec: No Partition Defined for Window operation! Moving all data to a single partition, this can cause serious performance degradation.\n",
      "24/01/22 02:53:48 WARN WindowExec: No Partition Defined for Window operation! Moving all data to a single partition, this can cause serious performance degradation.\n",
      "24/01/22 02:53:48 WARN WindowExec: No Partition Defined for Window operation! Moving all data to a single partition, this can cause serious performance degradation.\n",
      "24/01/22 02:54:02 WARN WindowExec: No Partition Defined for Window operation! Moving all data to a single partition, this can cause serious performance degradation.\n",
      "24/01/22 02:54:02 WARN WindowExec: No Partition Defined for Window operation! Moving all data to a single partition, this can cause serious performance degradation.\n",
      "24/01/22 02:55:24 WARN WindowExec: No Partition Defined for Window operation! Moving all data to a single partition, this can cause serious performance degradation.\n",
      "24/01/22 02:55:24 WARN WindowExec: No Partition Defined for Window operation! Moving all data to a single partition, this can cause serious performance degradation.\n",
      "24/01/22 02:55:39 WARN WindowExec: No Partition Defined for Window operation! Moving all data to a single partition, this can cause serious performance degradation.\n",
      "24/01/22 02:55:39 WARN WindowExec: No Partition Defined for Window operation! Moving all data to a single partition, this can cause serious performance degradation.\n",
      "24/01/22 02:56:25 WARN WindowExec: No Partition Defined for Window operation! Moving all data to a single partition, this can cause serious performance degradation.\n",
      "24/01/22 02:56:25 WARN WindowExec: No Partition Defined for Window operation! Moving all data to a single partition, this can cause serious performance degradation.\n",
      "24/01/22 02:57:09 WARN WindowExec: No Partition Defined for Window operation! Moving all data to a single partition, this can cause serious performance degradation.\n",
      "24/01/22 02:57:09 WARN WindowExec: No Partition Defined for Window operation! Moving all data to a single partition, this can cause serious performance degradation.\n",
      "24/01/22 02:58:07 WARN WindowExec: No Partition Defined for Window operation! Moving all data to a single partition, this can cause serious performance degradation.\n",
      "24/01/22 02:58:07 WARN WindowExec: No Partition Defined for Window operation! Moving all data to a single partition, this can cause serious performance degradation.\n",
      "24/01/22 02:58:53 WARN WindowExec: No Partition Defined for Window operation! Moving all data to a single partition, this can cause serious performance degradation.\n",
      "24/01/22 02:58:53 WARN WindowExec: No Partition Defined for Window operation! Moving all data to a single partition, this can cause serious performance degradation.\n",
      "24/01/22 02:59:36 WARN WindowExec: No Partition Defined for Window operation! Moving all data to a single partition, this can cause serious performance degradation.\n",
      "24/01/22 02:59:36 WARN WindowExec: No Partition Defined for Window operation! Moving all data to a single partition, this can cause serious performance degradation.\n",
      "24/01/22 03:00:31 WARN WindowExec: No Partition Defined for Window operation! Moving all data to a single partition, this can cause serious performance degradation.\n",
      "24/01/22 03:00:31 WARN WindowExec: No Partition Defined for Window operation! Moving all data to a single partition, this can cause serious performance degradation.\n",
      "24/01/22 03:01:19 WARN WindowExec: No Partition Defined for Window operation! Moving all data to a single partition, this can cause serious performance degradation.\n",
      "24/01/22 03:01:19 WARN WindowExec: No Partition Defined for Window operation! Moving all data to a single partition, this can cause serious performance degradation.\n",
      "24/01/22 03:02:03 WARN WindowExec: No Partition Defined for Window operation! Moving all data to a single partition, this can cause serious performance degradation.\n",
      "24/01/22 03:02:03 WARN WindowExec: No Partition Defined for Window operation! Moving all data to a single partition, this can cause serious performance degradation.\n",
      "24/01/22 03:02:03 WARN WindowExec: No Partition Defined for Window operation! Moving all data to a single partition, this can cause serious performance degradation.\n",
      "24/01/22 03:02:03 WARN WindowExec: No Partition Defined for Window operation! Moving all data to a single partition, this can cause serious performance degradation.\n",
      "24/01/22 03:02:03 WARN WindowExec: No Partition Defined for Window operation! Moving all data to a single partition, this can cause serious performance degradation.\n",
      "24/01/22 03:02:03 WARN WindowExec: No Partition Defined for Window operation! Moving all data to a single partition, this can cause serious performance degradation.\n",
      "24/01/22 03:02:03 WARN WindowExec: No Partition Defined for Window operation! Moving all data to a single partition, this can cause serious performance degradation.\n",
      "24/01/22 03:02:03 WARN WindowExec: No Partition Defined for Window operation! Moving all data to a single partition, this can cause serious performance degradation.\n",
      "24/01/22 03:02:18 WARN WindowExec: No Partition Defined for Window operation! Moving all data to a single partition, this can cause serious performance degradation.\n",
      "24/01/22 03:02:18 WARN WindowExec: No Partition Defined for Window operation! Moving all data to a single partition, this can cause serious performance degradation.\n",
      "24/01/22 03:03:37 WARN WindowExec: No Partition Defined for Window operation! Moving all data to a single partition, this can cause serious performance degradation.\n",
      "24/01/22 03:03:37 WARN WindowExec: No Partition Defined for Window operation! Moving all data to a single partition, this can cause serious performance degradation.\n",
      "24/01/22 03:03:52 WARN WindowExec: No Partition Defined for Window operation! Moving all data to a single partition, this can cause serious performance degradation.\n",
      "24/01/22 03:03:52 WARN WindowExec: No Partition Defined for Window operation! Moving all data to a single partition, this can cause serious performance degradation.\n",
      "24/01/22 03:04:38 WARN WindowExec: No Partition Defined for Window operation! Moving all data to a single partition, this can cause serious performance degradation.\n",
      "24/01/22 03:04:38 WARN WindowExec: No Partition Defined for Window operation! Moving all data to a single partition, this can cause serious performance degradation.\n"
     ]
    },
    {
     "name": "stderr",
     "output_type": "stream",
     "text": [
      "24/01/22 03:05:22 WARN WindowExec: No Partition Defined for Window operation! Moving all data to a single partition, this can cause serious performance degradation.\n",
      "24/01/22 03:05:22 WARN WindowExec: No Partition Defined for Window operation! Moving all data to a single partition, this can cause serious performance degradation.\n",
      "24/01/22 03:06:16 WARN WindowExec: No Partition Defined for Window operation! Moving all data to a single partition, this can cause serious performance degradation.\n",
      "24/01/22 03:06:16 WARN WindowExec: No Partition Defined for Window operation! Moving all data to a single partition, this can cause serious performance degradation.\n",
      "24/01/22 03:07:02 WARN WindowExec: No Partition Defined for Window operation! Moving all data to a single partition, this can cause serious performance degradation.\n",
      "24/01/22 03:07:02 WARN WindowExec: No Partition Defined for Window operation! Moving all data to a single partition, this can cause serious performance degradation.\n",
      "24/01/22 03:07:45 WARN WindowExec: No Partition Defined for Window operation! Moving all data to a single partition, this can cause serious performance degradation.\n",
      "24/01/22 03:07:45 WARN WindowExec: No Partition Defined for Window operation! Moving all data to a single partition, this can cause serious performance degradation.\n",
      "24/01/22 03:08:40 WARN WindowExec: No Partition Defined for Window operation! Moving all data to a single partition, this can cause serious performance degradation.\n",
      "24/01/22 03:08:40 WARN WindowExec: No Partition Defined for Window operation! Moving all data to a single partition, this can cause serious performance degradation.\n",
      "24/01/22 03:09:29 WARN WindowExec: No Partition Defined for Window operation! Moving all data to a single partition, this can cause serious performance degradation.\n",
      "24/01/22 03:09:29 WARN WindowExec: No Partition Defined for Window operation! Moving all data to a single partition, this can cause serious performance degradation.\n",
      "24/01/22 03:10:13 WARN WindowExec: No Partition Defined for Window operation! Moving all data to a single partition, this can cause serious performance degradation.\n",
      "24/01/22 03:10:13 WARN WindowExec: No Partition Defined for Window operation! Moving all data to a single partition, this can cause serious performance degradation.\n",
      "24/01/22 03:10:13 WARN WindowExec: No Partition Defined for Window operation! Moving all data to a single partition, this can cause serious performance degradation.\n",
      "24/01/22 03:10:13 WARN WindowExec: No Partition Defined for Window operation! Moving all data to a single partition, this can cause serious performance degradation.\n",
      "24/01/22 03:10:13 WARN WindowExec: No Partition Defined for Window operation! Moving all data to a single partition, this can cause serious performance degradation.\n",
      "24/01/22 03:10:13 WARN WindowExec: No Partition Defined for Window operation! Moving all data to a single partition, this can cause serious performance degradation.\n",
      "24/01/22 03:10:13 WARN WindowExec: No Partition Defined for Window operation! Moving all data to a single partition, this can cause serious performance degradation.\n",
      "24/01/22 03:10:13 WARN WindowExec: No Partition Defined for Window operation! Moving all data to a single partition, this can cause serious performance degradation.\n",
      "24/01/22 03:10:28 WARN WindowExec: No Partition Defined for Window operation! Moving all data to a single partition, this can cause serious performance degradation.\n",
      "24/01/22 03:10:28 WARN WindowExec: No Partition Defined for Window operation! Moving all data to a single partition, this can cause serious performance degradation.\n",
      "24/01/22 03:11:39 WARN WindowExec: No Partition Defined for Window operation! Moving all data to a single partition, this can cause serious performance degradation.\n",
      "24/01/22 03:11:39 WARN WindowExec: No Partition Defined for Window operation! Moving all data to a single partition, this can cause serious performance degradation.\n",
      "24/01/22 03:11:54 WARN WindowExec: No Partition Defined for Window operation! Moving all data to a single partition, this can cause serious performance degradation.\n",
      "24/01/22 03:11:54 WARN WindowExec: No Partition Defined for Window operation! Moving all data to a single partition, this can cause serious performance degradation.\n",
      "24/01/22 03:12:42 WARN WindowExec: No Partition Defined for Window operation! Moving all data to a single partition, this can cause serious performance degradation.\n",
      "24/01/22 03:12:42 WARN WindowExec: No Partition Defined for Window operation! Moving all data to a single partition, this can cause serious performance degradation.\n",
      "24/01/22 03:13:27 WARN WindowExec: No Partition Defined for Window operation! Moving all data to a single partition, this can cause serious performance degradation.\n",
      "24/01/22 03:13:27 WARN WindowExec: No Partition Defined for Window operation! Moving all data to a single partition, this can cause serious performance degradation.\n",
      "24/01/22 03:14:22 WARN WindowExec: No Partition Defined for Window operation! Moving all data to a single partition, this can cause serious performance degradation.\n",
      "24/01/22 03:14:22 WARN WindowExec: No Partition Defined for Window operation! Moving all data to a single partition, this can cause serious performance degradation.\n",
      "24/01/22 03:15:10 WARN WindowExec: No Partition Defined for Window operation! Moving all data to a single partition, this can cause serious performance degradation.\n",
      "24/01/22 03:15:10 WARN WindowExec: No Partition Defined for Window operation! Moving all data to a single partition, this can cause serious performance degradation.\n",
      "24/01/22 03:15:56 WARN WindowExec: No Partition Defined for Window operation! Moving all data to a single partition, this can cause serious performance degradation.\n",
      "24/01/22 03:15:56 WARN WindowExec: No Partition Defined for Window operation! Moving all data to a single partition, this can cause serious performance degradation.\n",
      "24/01/22 03:16:50 WARN WindowExec: No Partition Defined for Window operation! Moving all data to a single partition, this can cause serious performance degradation.\n",
      "24/01/22 03:16:50 WARN WindowExec: No Partition Defined for Window operation! Moving all data to a single partition, this can cause serious performance degradation.\n",
      "24/01/22 03:17:39 WARN WindowExec: No Partition Defined for Window operation! Moving all data to a single partition, this can cause serious performance degradation.\n",
      "24/01/22 03:17:39 WARN WindowExec: No Partition Defined for Window operation! Moving all data to a single partition, this can cause serious performance degradation.\n",
      "24/01/22 03:18:23 WARN WindowExec: No Partition Defined for Window operation! Moving all data to a single partition, this can cause serious performance degradation.\n",
      "24/01/22 03:18:23 WARN WindowExec: No Partition Defined for Window operation! Moving all data to a single partition, this can cause serious performance degradation.\n",
      "24/01/22 03:18:41 WARN WindowExec: No Partition Defined for Window operation! Moving all data to a single partition, this can cause serious performance degradation.\n",
      "24/01/22 03:18:41 WARN WindowExec: No Partition Defined for Window operation! Moving all data to a single partition, this can cause serious performance degradation.\n",
      "24/01/22 03:18:57 WARN WindowExec: No Partition Defined for Window operation! Moving all data to a single partition, this can cause serious performance degradation.\n",
      "24/01/22 03:18:57 WARN WindowExec: No Partition Defined for Window operation! Moving all data to a single partition, this can cause serious performance degradation.\n",
      "24/01/22 03:18:57 WARN WindowExec: No Partition Defined for Window operation! Moving all data to a single partition, this can cause serious performance degradation.\n",
      "24/01/22 03:19:16 WARN WindowExec: No Partition Defined for Window operation! Moving all data to a single partition, this can cause serious performance degradation.\n",
      "24/01/22 03:19:16 WARN WindowExec: No Partition Defined for Window operation! Moving all data to a single partition, this can cause serious performance degradation.\n",
      "24/01/22 03:19:17 WARN WindowExec: No Partition Defined for Window operation! Moving all data to a single partition, this can cause serious performance degradation.\n",
      "24/01/22 03:19:17 WARN WindowExec: No Partition Defined for Window operation! Moving all data to a single partition, this can cause serious performance degradation.\n",
      "24/01/22 03:19:17 WARN WindowExec: No Partition Defined for Window operation! Moving all data to a single partition, this can cause serious performance degradation.\n"
     ]
    },
    {
     "name": "stderr",
     "output_type": "stream",
     "text": [
      "24/01/22 03:19:32 WARN WindowExec: No Partition Defined for Window operation! Moving all data to a single partition, this can cause serious performance degradation.\n",
      "24/01/22 03:19:32 WARN WindowExec: No Partition Defined for Window operation! Moving all data to a single partition, this can cause serious performance degradation.\n",
      "24/01/22 03:20:49 WARN WindowExec: No Partition Defined for Window operation! Moving all data to a single partition, this can cause serious performance degradation.\n",
      "24/01/22 03:20:49 WARN WindowExec: No Partition Defined for Window operation! Moving all data to a single partition, this can cause serious performance degradation.\n",
      "24/01/22 03:20:49 WARN WindowExec: No Partition Defined for Window operation! Moving all data to a single partition, this can cause serious performance degradation.\n",
      "24/01/22 03:21:04 WARN WindowExec: No Partition Defined for Window operation! Moving all data to a single partition, this can cause serious performance degradation.\n",
      "24/01/22 03:21:04 WARN WindowExec: No Partition Defined for Window operation! Moving all data to a single partition, this can cause serious performance degradation.\n",
      "24/01/22 03:21:04 WARN WindowExec: No Partition Defined for Window operation! Moving all data to a single partition, this can cause serious performance degradation.\n",
      "24/01/22 03:21:04 WARN WindowExec: No Partition Defined for Window operation! Moving all data to a single partition, this can cause serious performance degradation.\n",
      "24/01/22 03:21:04 WARN WindowExec: No Partition Defined for Window operation! Moving all data to a single partition, this can cause serious performance degradation.\n",
      "24/01/22 03:21:20 WARN WindowExec: No Partition Defined for Window operation! Moving all data to a single partition, this can cause serious performance degradation.\n",
      "24/01/22 03:21:20 WARN WindowExec: No Partition Defined for Window operation! Moving all data to a single partition, this can cause serious performance degradation.\n",
      "24/01/22 03:21:20 WARN WindowExec: No Partition Defined for Window operation! Moving all data to a single partition, this can cause serious performance degradation.\n",
      "24/01/22 03:21:20 WARN WindowExec: No Partition Defined for Window operation! Moving all data to a single partition, this can cause serious performance degradation.\n",
      "24/01/22 03:21:20 WARN WindowExec: No Partition Defined for Window operation! Moving all data to a single partition, this can cause serious performance degradation.\n",
      "24/01/22 03:21:35 WARN WindowExec: No Partition Defined for Window operation! Moving all data to a single partition, this can cause serious performance degradation.\n",
      "24/01/22 03:21:35 WARN WindowExec: No Partition Defined for Window operation! Moving all data to a single partition, this can cause serious performance degradation.\n",
      "                                                                                \r"
     ]
    },
    {
     "name": "stdout",
     "output_type": "stream",
     "text": [
      "+----------+------+-----+----------------------------------------+----------+\n",
      "|date      |symbol|label|probability                             |prediction|\n",
      "+----------+------+-----+----------------------------------------+----------+\n",
      "|2015-01-02|CHAU  |1    |[0.4992780293300256,0.5007219706699744] |1.0       |\n",
      "|2015-01-02|DTP   |0    |[0.4992993222953445,0.5007006777046554] |1.0       |\n",
      "|2015-01-02|AYLA  |1    |[0.49929848813721817,0.5007015118627818]|1.0       |\n",
      "|2015-01-02|ZYXI  |0    |[0.49930014803773687,0.5006998519622632]|1.0       |\n",
      "|2015-01-02|SMIT  |0    |[0.49929944050109737,0.5007005594989027]|1.0       |\n",
      "|2015-01-02|SVBI  |0    |[0.499299067431593,0.500700932568407]   |1.0       |\n",
      "|2015-01-02|EVSI  |0    |[0.4992984311572832,0.5007015688427168] |1.0       |\n",
      "|2015-01-02|LIND  |1    |[0.49929772386138904,0.500702276138611] |1.0       |\n",
      "|2015-01-02|MPB   |0    |[0.49929635094164565,0.5007036490583543]|1.0       |\n",
      "|2015-01-02|GJP   |1    |[0.4992946480056489,0.5007053519943512] |1.0       |\n",
      "|2015-01-02|CAPR  |0    |[0.4992907541035034,0.5007092458964966] |1.0       |\n",
      "|2015-01-02|VLU   |1    |[0.4992797147267577,0.5007202852732423] |1.0       |\n",
      "|2015-01-02|TARA  |1    |[0.49919498180519745,0.5008050181948025]|1.0       |\n",
      "|2015-01-02|EDSA  |1    |[0.49918265291280295,0.500817347087197] |1.0       |\n",
      "|2015-01-02|TNXP  |1    |[0.4978191794801987,0.5021808205198013] |1.0       |\n",
      "|2015-01-02|USI   |0    |[0.49929456910684367,0.5007054308931563]|1.0       |\n",
      "|2015-01-02|BMRA  |0    |[0.49929979968908855,0.5007002003109114]|1.0       |\n",
      "|2015-01-02|BRN   |0    |[0.49929929375866217,0.5007007062413378]|1.0       |\n",
      "|2015-01-02|CYCCP |0    |[0.49929851112627754,0.5007014888737225]|1.0       |\n",
      "|2015-01-02|SLNO  |0    |[0.4992981174660762,0.5007018825339238] |1.0       |\n",
      "+----------+------+-----+----------------------------------------+----------+\n",
      "only showing top 20 rows\n",
      "\n"
     ]
    },
    {
     "name": "stderr",
     "output_type": "stream",
     "text": [
      "24/01/22 03:21:46 WARN WindowExec: No Partition Defined for Window operation! Moving all data to a single partition, this can cause serious performance degradation.\n",
      "24/01/22 03:21:46 WARN WindowExec: No Partition Defined for Window operation! Moving all data to a single partition, this can cause serious performance degradation.\n",
      "24/01/22 03:21:47 WARN WindowExec: No Partition Defined for Window operation! Moving all data to a single partition, this can cause serious performance degradation.\n",
      "24/01/22 03:22:02 WARN WindowExec: No Partition Defined for Window operation! Moving all data to a single partition, this can cause serious performance degradation.\n",
      "24/01/22 03:22:02 WARN WindowExec: No Partition Defined for Window operation! Moving all data to a single partition, this can cause serious performance degradation.\n",
      "[Stage 2891:>                                                       (0 + 1) / 1]\r"
     ]
    },
    {
     "name": "stdout",
     "output_type": "stream",
     "text": [
      "Best Model Accuracy = 50.60%\n"
     ]
    },
    {
     "name": "stderr",
     "output_type": "stream",
     "text": [
      "\r",
      "                                                                                \r"
     ]
    }
   ],
   "source": [
    "from pyspark.ml.tuning import ParamGridBuilder, CrossValidator\n",
    "\n",
    "# Define the parameter grid to search through\n",
    "paramGrid = (ParamGridBuilder()\n",
    "             .addGrid(lr.maxIter, [10, 20, 30])\n",
    "             .addGrid(lr.regParam, [0.01, 0.1, 1.0])\n",
    "             .build())\n",
    "\n",
    "# Define the evaluator\n",
    "evaluator = MulticlassClassificationEvaluator(labelCol=\"label\", predictionCol=\"prediction\", metricName=\"accuracy\")\n",
    "\n",
    "# Create a CrossValidator with 5 folds\n",
    "cv = CrossValidator(estimator=pipeline, estimatorParamMaps=paramGrid, evaluator=evaluator, numFolds=5)\n",
    "\n",
    "# Perform hyperparameter tuning\n",
    "cvModel = cv.fit(trainingData)\n",
    "\n",
    "# Get the best model from the cross-validation\n",
    "best_model = cvModel.bestModel\n",
    "\n",
    "# Test the best model on the test data\n",
    "best_prediction = best_model.transform(testData)\n",
    "best_prediction.select('date', 'symbol', 'label', 'probability', 'prediction').show(truncate=False)\n",
    "\n",
    "# Evaluate the best model\n",
    "best_accuracy = evaluator.evaluate(best_prediction)\n",
    "print(\"Best Model Accuracy = {:.2%}\".format(best_accuracy))\n"
   ]
  },
  {
   "cell_type": "code",
   "execution_count": null,
   "id": "a1d8dca1",
   "metadata": {},
   "outputs": [],
   "source": []
  },
  {
   "cell_type": "code",
   "execution_count": null,
   "id": "ad6fd599",
   "metadata": {},
   "outputs": [],
   "source": []
  },
  {
   "cell_type": "code",
   "execution_count": null,
   "id": "b5874744",
   "metadata": {},
   "outputs": [],
   "source": []
  },
  {
   "cell_type": "code",
   "execution_count": null,
   "id": "90a391ea",
   "metadata": {},
   "outputs": [],
   "source": []
  },
  {
   "cell_type": "code",
   "execution_count": null,
   "id": "6d79f57e",
   "metadata": {},
   "outputs": [],
   "source": []
  }
 ],
 "metadata": {
  "kernelspec": {
   "display_name": "Python 3 (ipykernel)",
   "language": "python",
   "name": "python3"
  },
  "language_info": {
   "codemirror_mode": {
    "name": "ipython",
    "version": 3
   },
   "file_extension": ".py",
   "mimetype": "text/x-python",
   "name": "python",
   "nbconvert_exporter": "python",
   "pygments_lexer": "ipython3",
   "version": "3.11.4"
  }
 },
 "nbformat": 4,
 "nbformat_minor": 5
}
